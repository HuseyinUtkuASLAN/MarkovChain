{
 "cells": [
  {
   "cell_type": "markdown",
   "metadata": {},
   "source": [
    "# Discrete-time Markov chain\n",
    "\n",
    "### Markov Chain : \n",
    "\"A stochastic model describing a sequence of possible events in which the probability of each event depends only on the state attained in the previous event.\" [1]\n",
    "### Discrete-time Markov chain\n",
    "\"A discrete-time Markov chain is a sequence of random variables X1, X2, X3, ... with the Markov property, namely that the probability of moving to the next state depends only on the present state and not on the previous states\"[2]\n",
    "\n",
    "1. https://en.oxforddictionaries.com/definition/us/markov_chain\n",
    "2. [wiki](https://en.wikipedia.org/wiki/Markov_chain)"
   ]
  },
  {
   "cell_type": "markdown",
   "metadata": {},
   "source": [
    "## Example\n",
    "\n",
    "We will use first example from Takis Konstantopoulos' \"One Hundred Solved Exercisesfor the subject:Stochastic Processes\" [link](https://www.stat.berkeley.edu/~aldous/150/takis_exercises.pdf)\n",
    "\n",
    "In the Dark Ages, Harvard, Dartmouth, and Yale admitted only male students. Assume that, at that time, 80 percent of the sons of Harvard men went to Harvard and the rest went to Yale, 40 percent of the sons of Yale men went to Yale, and the rest split evenly between Harvard and Dartmouth; and of the sons of Dartmouth men, 70 percent went to Dartmouth, 20 percent to Harvard, and 10 percent to Yale. (i) Find the probability that the grandson of a man from Harvard went to Harvard. (ii) Modify the above by assuming that the son of a Harvard man always went to Harvard. Again, find the probability that the grandson of a man from Harvard went to Harvard.\n",
    "\n",
    "This is a great example to show basics of discrete-time markov chain."
   ]
  },
  {
   "cell_type": "markdown",
   "metadata": {},
   "source": [
    "## Solution\n",
    "\n",
    "* First we show probabilities in a matrix\n",
    "* Perform discrete markov chain to calculate\n",
    "\n",
    "To calculate probability of n steps, we multiply initial state with n to the power of probability matrix(state matrix).<br>Xn = i * pow(SxS,n)\n",
    "\n",
    "Markov chain space S = {H,D,Y} <br>\n",
    "SxS= \n",
    "$\\begin{pmatrix}\n",
    ".8 & 0 & .2 \\\\\n",
    ".2 & .7 & .1 \\\\\n",
    ".3 & .3 & .4\n",
    "\\end{pmatrix} $"
   ]
  },
  {
   "cell_type": "code",
   "execution_count": 1,
   "metadata": {},
   "outputs": [],
   "source": [
    "import numpy as np"
   ]
  },
  {
   "cell_type": "code",
   "execution_count": 2,
   "metadata": {},
   "outputs": [
    {
     "data": {
      "text/plain": [
       "array([[0.8, 0. , 0.2],\n",
       "       [0.2, 0.7, 0.1],\n",
       "       [0.3, 0.3, 0.4]])"
      ]
     },
     "execution_count": 2,
     "metadata": {},
     "output_type": "execute_result"
    }
   ],
   "source": [
    "SxS = np.array([[.8,0,.2],[.2,.7,.1],[.3,.3,.4]])\n",
    "SxS"
   ]
  },
  {
   "cell_type": "markdown",
   "metadata": {},
   "source": [
    "#### Solution of i,\n",
    "\n",
    "To find grandson we need to calculate 2 steps from initial value which is grandfather being Harvard graduate. \n",
    "\n",
    "initial state = [1,0,0]"
   ]
  },
  {
   "cell_type": "code",
   "execution_count": 3,
   "metadata": {},
   "outputs": [
    {
     "data": {
      "text/plain": [
       "array([[1, 0, 0]])"
      ]
     },
     "execution_count": 3,
     "metadata": {},
     "output_type": "execute_result"
    }
   ],
   "source": [
    "initial_state = np.array([[1,0,0]])\n",
    "initial_state"
   ]
  },
  {
   "cell_type": "code",
   "execution_count": 4,
   "metadata": {},
   "outputs": [
    {
     "name": "stdout",
     "output_type": "stream",
     "text": [
      "State matrix shape (3, 3)\n",
      "Initial state shape (1, 3)\n"
     ]
    }
   ],
   "source": [
    "print(\"State matrix shape\" , SxS.shape)\n",
    "print(\"Initial state shape\" , initial_state.shape)"
   ]
  },
  {
   "cell_type": "code",
   "execution_count": 5,
   "metadata": {},
   "outputs": [],
   "source": [
    "from numpy.linalg import matrix_power"
   ]
  },
  {
   "cell_type": "code",
   "execution_count": 6,
   "metadata": {},
   "outputs": [
    {
     "data": {
      "text/plain": [
       "array([[0.7 , 0.06, 0.24]])"
      ]
     },
     "execution_count": 6,
     "metadata": {},
     "output_type": "execute_result"
    }
   ],
   "source": [
    "x =  np.matmul(initial_state,matrix_power(SxS,2))\n",
    "x"
   ]
  },
  {
   "cell_type": "markdown",
   "metadata": {},
   "source": [
    "Probability of grandson of the men who goes to Harvard going to Harvard is 70%"
   ]
  },
  {
   "cell_type": "markdown",
   "metadata": {},
   "source": [
    "#### Solution of ii,\n",
    "In this case, we turn first row of SxS to [1,0,0]. Result is obvious but lets calculate."
   ]
  },
  {
   "cell_type": "code",
   "execution_count": 7,
   "metadata": {},
   "outputs": [
    {
     "data": {
      "text/plain": [
       "array([[1. , 0. , 0. ],\n",
       "       [0.2, 0.7, 0.1],\n",
       "       [0.3, 0.3, 0.4]])"
      ]
     },
     "execution_count": 7,
     "metadata": {},
     "output_type": "execute_result"
    }
   ],
   "source": [
    "SxS[0] = np.array([1,0,0])\n",
    "SxS"
   ]
  },
  {
   "cell_type": "code",
   "execution_count": 8,
   "metadata": {},
   "outputs": [
    {
     "data": {
      "text/plain": [
       "array([[1., 0., 0.]])"
      ]
     },
     "execution_count": 8,
     "metadata": {},
     "output_type": "execute_result"
    }
   ],
   "source": [
    "x =  np.matmul(initial_state,matrix_power(SxS,2))\n",
    "x"
   ]
  }
 ],
 "metadata": {
  "kernelspec": {
   "display_name": "Python 3",
   "language": "python",
   "name": "python3"
  },
  "language_info": {
   "codemirror_mode": {
    "name": "ipython",
    "version": 3
   },
   "file_extension": ".py",
   "mimetype": "text/x-python",
   "name": "python",
   "nbconvert_exporter": "python",
   "pygments_lexer": "ipython3",
   "version": "3.5.2"
  }
 },
 "nbformat": 4,
 "nbformat_minor": 2
}
